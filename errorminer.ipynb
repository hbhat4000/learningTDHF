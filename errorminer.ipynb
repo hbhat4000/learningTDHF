{
 "cells": [
  {
   "cell_type": "code",
   "execution_count": 1,
   "id": "974e234b-2b92-418f-b211-b91462754980",
   "metadata": {
    "tags": []
   },
   "outputs": [],
   "source": [
    "import numpy as np\n",
    "import csv\n",
    "import matplotlib\n",
    "matplotlib.use('Agg')\n",
    "import matplotlib.pyplot as plt\n"
   ]
  },
  {
   "cell_type": "code",
   "execution_count": 2,
   "id": "4bd7dc08-d933-4ed8-aaae-dd25ab048f70",
   "metadata": {
    "tags": []
   },
   "outputs": [],
   "source": [
    "# put all errors into one array\n",
    "\n",
    "# dimensions of array\n",
    "# 7 molecular systems\n",
    "# 8 models (6 for some, but use sentinel value like -1)\n",
    "# 2 possible values of field\n",
    "# 6 possible errors: properr, ham x 2, comm x 2, trainloss\n",
    "\n",
    "allerrors = np.ones((7,8,2,6))*(-1)"
   ]
  },
  {
   "cell_type": "code",
   "execution_count": 3,
   "id": "95183863-aa42-4efb-9733-8a65ba817efb",
   "metadata": {
    "tags": []
   },
   "outputs": [],
   "source": [
    "molsys = {}\n",
    "molsys['heh+_6-31g'] = 0\n",
    "molsys['heh+_6-311G'] = 1\n",
    "molsys['lih_6-31g'] = 2\n",
    "molsys['lih_6-311ppgss'] = 3\n",
    "molsys['c2h4_sto-3g'] = 4\n",
    "molsys['c2h4_6-31pgs'] = 5\n",
    "molsys['c6h6n2o2_sto-3g'] = 6"
   ]
  },
  {
   "cell_type": "code",
   "execution_count": 4,
   "id": "a6747524-b94d-40d5-8979-3d20e3cdccd6",
   "metadata": {
    "tags": []
   },
   "outputs": [],
   "source": [
    "models = {}\n",
    "models['Tied'] = 0\n",
    "models['Herm'] = 1\n",
    "models['Symm'] = 2\n",
    "models['TiedE'] = 3\n",
    "models['HermE'] = 4\n",
    "models['SymmE'] = 5\n",
    "models['SymmH'] = 6\n",
    "models['SymmHE'] = 7"
   ]
  },
  {
   "cell_type": "code",
   "execution_count": 5,
   "id": "cd492aa0-3aef-4c5b-92fc-5fccfd546061",
   "metadata": {
    "tags": []
   },
   "outputs": [],
   "source": [
    "field = {}\n",
    "field['off'] = 0\n",
    "field['on'] = 1\n",
    "field['True'] = 1\n",
    "field['False'] = 0"
   ]
  },
  {
   "cell_type": "code",
   "execution_count": 6,
   "id": "2d84aab5-6dbe-4225-9c50-76640555a1c6",
   "metadata": {
    "tags": []
   },
   "outputs": [],
   "source": [
    "# grab propagation errors\n",
    "with open(\"./properrorsSMALL.out\", \"r\") as csv_file:\n",
    "    csv_reader = csv.reader(csv_file, delimiter=' ')\n",
    "    for line in csv_reader:\n",
    "        if len(line)>0:\n",
    "            i = molsys[line[0]+'_'+line[1]]\n",
    "            j = models[line[3]]\n",
    "            k = field[line[2]]\n",
    "            allerrors[i,j,k,0] = float(line[4])\n",
    "            \n",
    "# grab propagation errors\n",
    "with open(\"./properrorsLARGE.out\", \"r\") as csv_file:\n",
    "    csv_reader = csv.reader(csv_file, delimiter=' ')\n",
    "    for line in csv_reader:\n",
    "        if len(line)>0:\n",
    "            i = molsys[line[0]+'_'+line[1]]\n",
    "            j = models[line[3]]\n",
    "            k = field[line[2]]\n",
    "            allerrors[i,j,k,0] = float(line[4])"
   ]
  },
  {
   "cell_type": "code",
   "execution_count": 7,
   "id": "47d217e7-1b1e-43c2-bc8b-0a5b2a805baa",
   "metadata": {
    "tags": []
   },
   "outputs": [
    {
     "name": "stdout",
     "output_type": "stream",
     "text": [
      "['Single', 'field-free', 'trajectory', '+', 'LSMR', 'models']\n",
      "['Ensemble', 'of', 'field-free', 'trajectories', '+', 'LSMR', 'models']\n"
     ]
    }
   ],
   "source": [
    "with open(\"./PGhamerrs.out\",\"r\") as csv_file:\n",
    "    csv_reader = csv.reader(csv_file, delimiter=' ')\n",
    "    for line in csv_reader:\n",
    "        if len(line)==6 and line[0]=='Single':\n",
    "            print(line)\n",
    "            j = 0\n",
    "        if len(line)==7 and line[0]=='Ensemble':\n",
    "            print(line)\n",
    "            j = 3\n",
    "        elif len(line)>0:\n",
    "            ms = line[0]+'_'+line[1]\n",
    "            if ms in molsys.keys():\n",
    "                i = molsys[ms]\n",
    "                allerrors[i,j,0,1] = float(line[2])\n",
    "                allerrors[i,j,0,2] = float(line[3])\n"
   ]
  },
  {
   "cell_type": "code",
   "execution_count": 8,
   "id": "dc576a6f-c3b9-4fe0-8f5c-7e6bef10d891",
   "metadata": {
    "tags": []
   },
   "outputs": [
    {
     "name": "stdout",
     "output_type": "stream",
     "text": [
      "['Single', 'field-free', 'trajectory', '+', 'LSMR', 'models']\n",
      "['Ensemble', 'of', 'field-free', 'trajectories', '+', 'LSMR', 'models']\n"
     ]
    }
   ],
   "source": [
    "with open(\"./HBhamerrs.out\",\"r\") as csv_file:\n",
    "    csv_reader = csv.reader(csv_file, delimiter=' ')\n",
    "    for line in csv_reader:\n",
    "        if len(line)==6 and line[0]=='Single':\n",
    "            print(line)\n",
    "            j = 1\n",
    "        if len(line)==7 and line[0]=='Ensemble':\n",
    "            print(line)\n",
    "            j = 4\n",
    "        elif len(line)>0:\n",
    "            ms = line[0]+'_'+line[1]\n",
    "            if ms in molsys.keys():\n",
    "                i = molsys[ms]\n",
    "                allerrors[i,j,0,1] = float(line[2])\n",
    "                allerrors[i,j,0,2] = float(line[3])"
   ]
  },
  {
   "cell_type": "code",
   "execution_count": 9,
   "id": "4256ac5e-95df-47c1-a94a-85a76c3054d3",
   "metadata": {
    "tags": []
   },
   "outputs": [
    {
     "name": "stdout",
     "output_type": "stream",
     "text": [
      "['Single', 'field-free', 'trajectory', '+', 'LSMR', 'models']\n",
      "['Ensemble', 'of', 'field-free', 'trajectories', '+', 'LSMR', 'models']\n",
      "['Single', 'field-free', 'trajectory', '+', 'Exact', 'Hess', 'models']\n",
      "['Ensemble', 'of', 'field-free', 'trajectories', '+', 'Exact', 'Hess', 'models']\n"
     ]
    }
   ],
   "source": [
    "with open(\"./MOhamerrs.out\",\"r\") as csv_file:\n",
    "    csv_reader = csv.reader(csv_file, delimiter=' ')\n",
    "    for line in csv_reader:\n",
    "        if len(line)==6 and line[0]=='Single':\n",
    "            print(line)\n",
    "            j = 2\n",
    "        if len(line)==7:\n",
    "            print(line)\n",
    "            if line[0]=='Ensemble':\n",
    "                j = 5\n",
    "            if line[5]=='Hess' and line[0]=='Single':\n",
    "                j = 6\n",
    "        if len(line)==8 and line[0]=='Ensemble':\n",
    "            print(line)\n",
    "            j = 7\n",
    "        elif len(line)>0:\n",
    "            ms = line[0]+'_'+line[1]\n",
    "            if ms in molsys.keys():\n",
    "                i = molsys[ms]\n",
    "                allerrors[i,j,0,1] = float(line[2])\n",
    "                allerrors[i,j,0,2] = float(line[3])"
   ]
  },
  {
   "cell_type": "code",
   "execution_count": 10,
   "id": "17ecb4aa-601d-45f7-8684-0817f641d841",
   "metadata": {
    "tags": []
   },
   "outputs": [],
   "source": [
    "with open(\"./PGcommerrs.out\",\"r\") as csv_file:\n",
    "    csv_reader = csv.reader(csv_file, delimiter=' ')\n",
    "    for line in csv_reader:\n",
    "        if len(line)==7 and line[0]=='Single':\n",
    "            j = 0\n",
    "            if line[6]=='field-free':\n",
    "                k = 0\n",
    "            elif line[6]=='field-on':\n",
    "                k = 1\n",
    "        if len(line)==8 and line[0]=='Ensemble':\n",
    "            j = 3\n",
    "            if line[7]=='field-free':\n",
    "                k = 0\n",
    "            elif line[7]=='field-on':\n",
    "                k = 1\n",
    "        elif len(line)>0:\n",
    "            ms = line[0]+'_'+line[1]\n",
    "            if ms in molsys.keys():\n",
    "                i = molsys[ms]\n",
    "                allerrors[i,j,k,3] = float(line[2])\n",
    "                allerrors[i,j,k,4] = float(line[3])\n",
    "\n",
    "with open(\"./HBcommerrs.out\",\"r\") as csv_file:\n",
    "    csv_reader = csv.reader(csv_file, delimiter=' ')\n",
    "    for line in csv_reader:\n",
    "        if len(line)==7 and line[0]=='Single':\n",
    "            j = 1\n",
    "            if line[6]=='field-free':\n",
    "                k = 0\n",
    "            elif line[6]=='field-on':\n",
    "                k = 1\n",
    "        if len(line)==8 and line[0]=='Ensemble':\n",
    "            j = 4\n",
    "            if line[7]=='field-free':\n",
    "                k = 0\n",
    "            elif line[7]=='field-on':\n",
    "                k = 1\n",
    "        elif len(line)>0:\n",
    "            ms = line[0]+'_'+line[1]\n",
    "            if ms in molsys.keys():\n",
    "                i = molsys[ms]\n",
    "                allerrors[i,j,k,3] = float(line[2])\n",
    "                allerrors[i,j,k,4] = float(line[3])"
   ]
  },
  {
   "cell_type": "code",
   "execution_count": 11,
   "id": "487c9d21-f96d-4212-a1d5-89fe233b01d2",
   "metadata": {
    "tags": []
   },
   "outputs": [],
   "source": [
    "with open(\"./MOcommerrs.out\",\"r\") as csv_file:\n",
    "    csv_reader = csv.reader(csv_file, delimiter=' ')\n",
    "    for line in csv_reader:\n",
    "        if len(line)==7 and line[0]=='Single':\n",
    "            j = 2\n",
    "            if line[6]=='field-free':\n",
    "                k = 0\n",
    "            elif line[6]=='field-on':\n",
    "                k = 1            \n",
    "        if len(line)==8:\n",
    "            if line[0]=='Ensemble':\n",
    "                j = 5\n",
    "            if line[5]=='Hess' and line[0]=='Single':\n",
    "                j = 6\n",
    "            if line[7]=='field-free':\n",
    "                k = 0\n",
    "            elif line[7]=='field-on':\n",
    "                k = 1\n",
    "        if len(line)==9 and line[0]=='Ensemble':\n",
    "            j = 7\n",
    "            if line[8]=='field-free':\n",
    "                k = 0\n",
    "            elif line[8]=='field-on':\n",
    "                k = 1\n",
    "        elif len(line)>0:\n",
    "            ms = line[0]+'_'+line[1]\n",
    "            if ms in molsys.keys():\n",
    "                i = molsys[ms]\n",
    "                allerrors[i,j,k,3] = float(line[2])\n",
    "                allerrors[i,j,k,4] = float(line[3])"
   ]
  },
  {
   "cell_type": "code",
   "execution_count": 12,
   "id": "0fe841d1-850b-4687-9d1d-010dd2d6b07d",
   "metadata": {
    "tags": []
   },
   "outputs": [
    {
     "name": "stdout",
     "output_type": "stream",
     "text": [
      "['Device', '0', 'Name', ':', 'NVIDIA', 'A100', '80GB', 'PCIe']\n",
      "['Device', '0', 'Name', ':', 'NVIDIA', 'A100', '80GB', 'PCIe']\n"
     ]
    }
   ],
   "source": [
    "msk = list(molsys.keys())\n",
    "for i in range(7):\n",
    "    if i==0 or i==1 or i==2 or i==4:\n",
    "        # small system\n",
    "        LTfname = msk[i].replace('_','_lowtol_')\n",
    "        LTRfname = msk[i].replace('_','R_lowtol_')\n",
    "        Rfname = msk[i].replace('_','R_')\n",
    "        fname = msk[i]\n",
    "        for logname in ['PG','HB','MO','MOiter']:\n",
    "            if logname=='MOiter' or logname=='MO':\n",
    "                fullpath = 'logs'+logname+'/'+fname+'_fit2.out'\n",
    "                fullpathR = 'logs'+logname+'/'+Rfname+'_fit2.out'\n",
    "            else:\n",
    "                fullpath = 'logs'+logname+'/'+LTfname+'_fit2.out'\n",
    "                fullpathR = 'logs'+logname+'/'+LTRfname+'_fit2.out'\n",
    "            with open(fullpath) as csv_file:\n",
    "                csv_reader = csv.reader(csv_file, delimiter=' ')\n",
    "                for line in csv_reader:\n",
    "                    if len(line)==3:\n",
    "                        if line[0]=='loss' and line[1]=='=':\n",
    "                            if logname=='PG':\n",
    "                                j=0\n",
    "                            elif logname=='HB':\n",
    "                                j=1\n",
    "                            elif logname=='MO':\n",
    "                                j=6\n",
    "                            elif logname=='MOiter':\n",
    "                                j=2\n",
    "                            allerrors[i,j,0,5] = float(line[2])\n",
    "            with open(fullpathR) as csv_file:\n",
    "                csv_reader = csv.reader(csv_file, delimiter=' ')\n",
    "                for line in csv_reader:\n",
    "                    if len(line)==3:\n",
    "                        if line[0]=='loss' and line[1]=='=':\n",
    "                            if logname=='PG':\n",
    "                                j=3\n",
    "                            elif logname=='HB':\n",
    "                                j=4\n",
    "                            elif logname=='MO':\n",
    "                                j=7\n",
    "                            elif logname=='MOiter':\n",
    "                                j=5\n",
    "                            allerrors[i,j,0,5] = float(line[2])\n",
    "    else:\n",
    "        # large system\n",
    "        LTfname = msk[i].replace('_','_lowtol_')\n",
    "        LTRfname = msk[i].replace('_','R_lowtol_')\n",
    "        for logname in ['PG','HB','MO']:\n",
    "            fullpath = 'logs'+logname+'/'+LTfname+'_fit2.out'\n",
    "            fullpathR = 'logs'+logname+'/'+LTRfname+'_fit2.out'\n",
    "            with open(fullpath) as csv_file:\n",
    "                csv_reader = csv.reader(csv_file, delimiter=' ')\n",
    "                for line in csv_reader:\n",
    "                    if len(line)==3:\n",
    "                        if line[0]=='loss' and line[1]=='=':\n",
    "                            if logname=='PG':\n",
    "                                j=0\n",
    "                            elif logname=='HB':\n",
    "                                j=1\n",
    "                            elif logname=='MO':\n",
    "                                j=2\n",
    "                            allerrors[i,j,0,5] = float(line[2])\n",
    "            with open(fullpathR) as csv_file:\n",
    "                csv_reader = csv.reader(csv_file, delimiter=' ', skipinitialspace=True)\n",
    "                if logname=='PG':\n",
    "                    j=3\n",
    "                elif logname=='HB':\n",
    "                    j=4\n",
    "                elif logname=='MO':\n",
    "                    j=5\n",
    "                for line in csv_reader:\n",
    "                    if len(line)==8:\n",
    "                        try:\n",
    "                            curloss = float(line[2])**2\n",
    "                            allerrors[i,j,0,5] = curloss\n",
    "                        except:\n",
    "                            print(line)\n",
    "                    if len(line)==3:\n",
    "                        if line[0]=='loss' and line[1]=='=':\n",
    "                            allerrors[i,j,0,5] = float(line[2])\n",
    "                            break                    \n",
    "        "
   ]
  },
  {
   "cell_type": "code",
   "execution_count": 13,
   "id": "2be7abb8-66b6-4bb2-bf83-ddda9f3a18a5",
   "metadata": {
    "tags": []
   },
   "outputs": [],
   "source": [
    "# the great swaparoo\n",
    "# switch systems 3 and 4 so that the small systems are the first 4 and the large systems are the last 3\n",
    "allerrors[[3,4],:,:,:] = allerrors[[4,3],:,:,:]"
   ]
  },
  {
   "cell_type": "code",
   "execution_count": 13,
   "id": "e9f4f592-2689-4645-a78b-b496b7c682ba",
   "metadata": {
    "tags": []
   },
   "outputs": [],
   "source": [
    "mdk = list(models.keys())"
   ]
  },
  {
   "cell_type": "code",
   "execution_count": 14,
   "id": "e0388e68-4747-4129-a672-883cfe78d8dd",
   "metadata": {
    "tags": []
   },
   "outputs": [],
   "source": [
    "msk2=[r\"$ \\text{HeH}^+ $ in\" \"\\n\" r\"$ \\text{6-31g} $\",\n",
    "      r\"$ \\text{HeH}^+ $ in\" \"\\n\" r\"$ \\text{6-311G} $\",\n",
    "      r\"$ \\text{LiH} $ in\" \"\\n\" r\"$ \\text{6-31g} $\",\n",
    "      r\"$ \\text{C}_2 \\text{H}_4$ in\" \"\\n\" r\"$ \\text{sto-3g} $\",\n",
    "      r\"$ \\text{LiH} $ in\" \"\\n\" r\"$ \\text{6-311ppgss} $\",\n",
    "      r\"$ \\text{C}_2 \\text{H}_4$ in\" \"\\n\" r\"$ \\text{6-31pgs} $\",\n",
    "      r\"$ \\text{C}_6 \\text{H}_6 \\text{N}_2 \\text{O}_2 $\" \"\\n\" r\"$ \\text{in sto-3g} $\"]"
   ]
  },
  {
   "cell_type": "code",
   "execution_count": 15,
   "id": "93c45c40-3620-4263-89b6-a4ea2c98d6fd",
   "metadata": {},
   "outputs": [],
   "source": [
    "allmarkers = ['o','v','+','<','>','^','x','*']"
   ]
  },
  {
   "cell_type": "code",
   "execution_count": 16,
   "id": "bcf6ca92-7762-4b32-a129-1959bd4cf1e9",
   "metadata": {
    "tags": []
   },
   "outputs": [],
   "source": [
    "matplotlib.rcParams.update({'font.size': 16})"
   ]
  },
  {
   "cell_type": "code",
   "execution_count": 18,
   "id": "c8892588-a80a-449a-aab2-f23ffde29189",
   "metadata": {
    "tags": []
   },
   "outputs": [],
   "source": [
    "# show that swapping out exact Hessian and using LSMR doesn't cost you anything\n",
    "# FIELD-FREE\n",
    "\n",
    "plt.figure(figsize=(4,6))\n",
    "ax = plt.gca()\n",
    "ax.set_yscale('log')\n",
    "ax.set_xticks(ticks=np.arange(4),labels=[msk2[i] for i in [0,1,2,3]])\n",
    "ax.tick_params(axis='x', labelrotation=90)\n",
    "\n",
    "for m in [2,5,6,7]:\n",
    "    errvec = allerrors[:,m,0,0]\n",
    "    plt.scatter( np.arange(4), errvec[[0,1,2,3]], label=mdk[m], marker=allmarkers[m] )\n",
    "\n",
    "ax.legend(loc='center left', bbox_to_anchor=(1, 0.5))\n",
    "plt.ylabel(r\"$\\| \\cdot \\|_\\infty$ propagation error\")\n",
    "plt.savefig('./figs/HessWashFF.pdf', bbox_inches = \"tight\")\n",
    "plt.close()\n",
    "\n",
    "# FIELD ON\n",
    "plt.figure(figsize=(4,6))\n",
    "ax = plt.gca()\n",
    "ax.set_yscale('log')\n",
    "ax.set_xticks(ticks=np.arange(4),labels=[msk2[i] for i in [0,1,2,3]])\n",
    "ax.tick_params(axis='x', labelrotation=90)\n",
    "\n",
    "for m in [2,5,6,7]:\n",
    "    errvec = allerrors[:,m,1,0]\n",
    "    plt.scatter( np.arange(4), errvec[[0,1,2,3]], label=mdk[m], marker=allmarkers[m] )\n",
    "\n",
    "ax.legend(loc='center left', bbox_to_anchor=(1, 0.5))\n",
    "plt.ylabel(r\"$\\| \\cdot \\|_\\infty$ propagation error\")\n",
    "plt.savefig('./figs/HessWashFO.pdf', bbox_inches = \"tight\")\n",
    "plt.close()\n"
   ]
  },
  {
   "cell_type": "code",
   "execution_count": 19,
   "id": "285978be-c0a2-4845-931c-e83a48bcccdf",
   "metadata": {
    "tags": []
   },
   "outputs": [],
   "source": [
    "# overall propagation error plots for LSMR methods\n",
    "# FIELD-FREE\n",
    "\n",
    "plt.figure(figsize=(6,6))\n",
    "ax = plt.gca()\n",
    "ax.set_yscale('log')\n",
    "ax.set_xticks(ticks=np.arange(7),labels=msk2)\n",
    "ax.tick_params(axis='x', labelrotation=90)\n",
    "\n",
    "for m in range(6):\n",
    "    errvec = allerrors[:,m,0,0]\n",
    "    plt.scatter( np.arange(7), errvec, label=mdk[m], marker=allmarkers[m] )\n",
    "\n",
    "ax.legend(loc='center left', bbox_to_anchor=(1, 0.5))\n",
    "plt.ylabel(r\"$\\| \\cdot \\|_\\infty$ propagation error\")\n",
    "plt.savefig('./figs/LinftyPropErrFF.pdf', bbox_inches = \"tight\")\n",
    "plt.close()\n",
    "\n",
    "plt.figure(figsize=(6,6))\n",
    "ax = plt.gca()\n",
    "ax.set_yscale('log')\n",
    "ax.set_xticks(ticks=np.arange(7),labels=msk2)\n",
    "ax.tick_params(axis='x', labelrotation=90)\n",
    "\n",
    "for m in range(6):\n",
    "    errvec = allerrors[:,m,1,0]\n",
    "    plt.scatter( np.arange(7), errvec, label=mdk[m], marker=allmarkers[m] )\n",
    "\n",
    "ax.legend(loc='center left', bbox_to_anchor=(1, 0.5))\n",
    "plt.ylabel(r\"$\\| \\cdot \\|_\\infty$ propagation error\")\n",
    "plt.savefig('./figs/LinftyPropErrFO.pdf', bbox_inches = \"tight\")\n",
    "plt.close()\n"
   ]
  },
  {
   "cell_type": "code",
   "execution_count": 20,
   "id": "e8ad67d0-e41a-419e-a49e-2da40cd15b0e",
   "metadata": {},
   "outputs": [],
   "source": [
    "# overall propagation error plots for LSMR methods\n",
    "# FIELD-FREE\n",
    "\n",
    "plt.figure(figsize=(6,6))\n",
    "ax = plt.gca()\n",
    "ax.set_yscale('log')\n",
    "ax.set_xticks(ticks=np.arange(7),labels=msk2)\n",
    "ax.tick_params(axis='x', labelrotation=90)\n",
    "\n",
    "for m in range(6):\n",
    "    errvec = allerrors[:,m,0,0]\n",
    "    plt.scatter( np.arange(7), errvec, label=mdk[m], marker=allmarkers[m] )\n",
    "\n",
    "ax.legend(loc='center left', bbox_to_anchor=(1, 0.5))\n",
    "plt.ylabel(r\"$\\| \\cdot \\|_\\infty$ propagation error\")\n",
    "plt.savefig('./figs/LinftyPropErrFF.pdf', bbox_inches = \"tight\")\n",
    "plt.close()\n",
    "\n",
    "plt.figure(figsize=(6,6))\n",
    "ax = plt.gca()\n",
    "ax.set_yscale('log')\n",
    "ax.set_xticks(ticks=np.arange(7),labels=msk2)\n",
    "ax.tick_params(axis='x', labelrotation=90)\n",
    "\n",
    "for m in range(6):\n",
    "    errvec = allerrors[:,m,1,0]\n",
    "    plt.scatter( np.arange(7), errvec, label=mdk[m], marker=allmarkers[m] )\n",
    "\n",
    "ax.legend(loc='center left', bbox_to_anchor=(1, 0.5))\n",
    "plt.ylabel(r\"$\\| \\cdot \\|_\\infty$ propagation error\")\n",
    "plt.savefig('./figs/LinftyPropErrFO.pdf', bbox_inches = \"tight\")\n",
    "plt.close()\n"
   ]
  },
  {
   "cell_type": "code",
   "execution_count": 21,
   "id": "e2537ae6-2914-4449-86fc-687c26381e5b",
   "metadata": {
    "tags": []
   },
   "outputs": [],
   "source": [
    "# overall Hamiltonian error plots for LSMR methods\n",
    "# FIELD-FREE\n",
    "\n",
    "plt.figure(figsize=(6,6))\n",
    "ax = plt.gca()\n",
    "ax.set_yscale('log',base=2)\n",
    "ax.set_xticks(ticks=np.arange(7),labels=msk2)\n",
    "ax.tick_params(axis='x', labelrotation=90)\n",
    "\n",
    "for m in range(6):\n",
    "    errvec = allerrors[:,m,0,1]\n",
    "    plt.scatter( np.arange(7), errvec, label=mdk[m], marker=allmarkers[m] )\n",
    "\n",
    "ax.legend(loc='center left', bbox_to_anchor=(1, 0.5))\n",
    "plt.ylabel(r\"$\\| \\cdot \\|_\\infty$ Hamiltonian error\")\n",
    "plt.savefig('./figs/LinftyHamErr.pdf', bbox_inches = \"tight\")\n",
    "plt.close()\n",
    "\n",
    "plt.figure(figsize=(6,6))\n",
    "ax = plt.gca()\n",
    "ax.set_yscale('log')\n",
    "ax.set_xticks(ticks=np.arange(7),labels=msk2)\n",
    "ax.tick_params(axis='x', labelrotation=90)\n",
    "\n",
    "for m in range(6):\n",
    "    errvec = allerrors[:,m,0,2]\n",
    "    plt.scatter( np.arange(7), errvec, label=mdk[m], marker=allmarkers[m] )\n",
    "\n",
    "ax.legend(loc='center left', bbox_to_anchor=(1, 0.5))\n",
    "plt.ylabel(r\"mean absolute Hamiltonian error\")\n",
    "plt.savefig('./figs/MAEHamErr.pdf', bbox_inches = \"tight\")\n",
    "plt.close()\n"
   ]
  },
  {
   "cell_type": "code",
   "execution_count": 22,
   "id": "88b28b63-52c0-40aa-989c-1a7a22a97565",
   "metadata": {
    "tags": []
   },
   "outputs": [],
   "source": [
    "# overall commutator error plots for LSMR methods\n",
    "# FIELD-FREE\n",
    "\n",
    "plt.figure(figsize=(6,6))\n",
    "ax = plt.gca()\n",
    "ax.set_yscale('log')\n",
    "ax.set_xticks(ticks=np.arange(7),labels=msk2)\n",
    "ax.tick_params(axis='x', labelrotation=90)\n",
    "\n",
    "for m in range(6):\n",
    "    errvec = allerrors[:,m,0,3]\n",
    "    plt.scatter( np.arange(7), errvec, label=mdk[m], marker=allmarkers[m] )\n",
    "\n",
    "ax.legend(loc='center left', bbox_to_anchor=(1, 0.5))\n",
    "plt.ylabel(r\"$\\| \\cdot \\|_\\infty$ commutator error (field-free)\")\n",
    "plt.savefig('./figs/LinftyCommErrFF.pdf', bbox_inches = \"tight\")\n",
    "plt.close()\n",
    "\n",
    "plt.figure(figsize=(6,6))\n",
    "ax = plt.gca()\n",
    "ax.set_yscale('log')\n",
    "ax.set_xticks(ticks=np.arange(7),labels=msk2)\n",
    "ax.tick_params(axis='x', labelrotation=90)\n",
    "\n",
    "for m in range(6):\n",
    "    errvec = allerrors[:,m,0,4]\n",
    "    plt.scatter( np.arange(7), errvec, label=mdk[m], marker=allmarkers[m] )\n",
    "\n",
    "ax.legend(loc='center left', bbox_to_anchor=(1, 0.5))\n",
    "plt.ylabel(r\"$\\| \\cdot \\|_F^2$ commutator error (field-free)\")\n",
    "plt.savefig('./figs/FroSqCommErrFF.pdf', bbox_inches = \"tight\")\n",
    "plt.close()\n"
   ]
  },
  {
   "cell_type": "code",
   "execution_count": 17,
   "id": "5b0dfb70-bf0b-4173-81dc-2c7401b06207",
   "metadata": {
    "tags": []
   },
   "outputs": [],
   "source": [
    "# overall commutator error plots for LSMR methods\n",
    "# FIELD-ON\n",
    "\n",
    "plt.figure(figsize=(6,6))\n",
    "ax = plt.gca()\n",
    "ax.set_yscale('log')\n",
    "ax.set_xticks(ticks=np.arange(7),labels=msk2)\n",
    "ax.tick_params(axis='x', labelrotation=90)\n",
    "\n",
    "for m in range(6):\n",
    "    errvec = allerrors[:,m,1,3]\n",
    "    plt.scatter( np.arange(7), errvec, label=mdk[m], marker=allmarkers[m] )\n",
    "\n",
    "ax.legend(loc='center left', bbox_to_anchor=(1, 0.5))\n",
    "plt.ylabel(r\"$\\| \\cdot \\|_\\infty$ commutator error (field-on)\")\n",
    "plt.savefig('./figs/LinftyCommErrFO.pdf', bbox_inches = \"tight\")\n",
    "plt.close()\n",
    "\n",
    "plt.figure(figsize=(6,6))\n",
    "ax = plt.gca()\n",
    "ax.set_yscale('log')\n",
    "ax.set_xticks(ticks=np.arange(7),labels=msk2)\n",
    "ax.tick_params(axis='x', labelrotation=90)\n",
    "\n",
    "for m in range(6):\n",
    "    errvec = allerrors[:,m,1,4]\n",
    "    plt.scatter( np.arange(7), errvec, label=mdk[m], marker=allmarkers[m] )\n",
    "\n",
    "ax.legend(loc='center left', bbox_to_anchor=(1, 0.5))\n",
    "plt.ylabel(r\"$\\| \\cdot \\|_F^2$ commutator error (field-on)\")\n",
    "plt.savefig('./figs/FroSqCommErrFO.pdf', bbox_inches = \"tight\")\n",
    "plt.close()\n"
   ]
  },
  {
   "cell_type": "code",
   "execution_count": 24,
   "id": "b20e8288-019d-4562-9e56-07cd8924e9e2",
   "metadata": {
    "tags": []
   },
   "outputs": [],
   "source": [
    "# overall training losses for LSMR methods\n",
    "# FIELD-FREE\n",
    "\n",
    "plt.figure(figsize=(6,6))\n",
    "ax = plt.gca()\n",
    "ax.set_yscale('log')\n",
    "ax.set_xticks(ticks=np.arange(7),labels=msk2)\n",
    "ax.tick_params(axis='x', labelrotation=90)\n",
    "\n",
    "for m in range(6):\n",
    "    errvec = allerrors[:,m,0,5]\n",
    "    plt.scatter( np.arange(7), errvec, label=mdk[m], marker=allmarkers[m] )\n",
    "\n",
    "ax.legend(loc='center left', bbox_to_anchor=(1, 0.5))\n",
    "plt.ylabel(r\"Training Losses\")\n",
    "plt.savefig('./figs/TrainingLosses.pdf', bbox_inches = \"tight\")\n",
    "plt.close()\n",
    "\n"
   ]
  },
  {
   "cell_type": "code",
   "execution_count": 25,
   "id": "6154280b-51f5-41bb-9611-5dfc54b87883",
   "metadata": {},
   "outputs": [],
   "source": [
    "np.save(\"allerrors.npy\",allerrors)"
   ]
  },
  {
   "cell_type": "code",
   "execution_count": null,
   "id": "fdd9dafe-224c-48fd-9069-dbeafe5bf5f4",
   "metadata": {},
   "outputs": [],
   "source": []
  }
 ],
 "metadata": {
  "kernelspec": {
   "display_name": "NERSC Python",
   "language": "python",
   "name": "python3"
  },
  "language_info": {
   "codemirror_mode": {
    "name": "ipython",
    "version": 3
   },
   "file_extension": ".py",
   "mimetype": "text/x-python",
   "name": "python",
   "nbconvert_exporter": "python",
   "pygments_lexer": "ipython3",
   "version": "3.11.7"
  }
 },
 "nbformat": 4,
 "nbformat_minor": 5
}
