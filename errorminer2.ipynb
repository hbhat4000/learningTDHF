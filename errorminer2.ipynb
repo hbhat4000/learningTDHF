{
 "cells": [
  {
   "cell_type": "code",
   "execution_count": 1,
   "id": "db8d7cc1-0069-4e8f-bbf4-83c9b8b946ac",
   "metadata": {
    "tags": []
   },
   "outputs": [
    {
     "name": "stdout",
     "output_type": "stream",
     "text": [
      "Requirement already satisfied: pytextable in /Users/hbhat/miniforge3/envs/jaxmetal/lib/python3.9/site-packages (0.2.1)\n"
     ]
    }
   ],
   "source": [
    "import numpy as np\n",
    "!pip install pytextable\n",
    "import pytextable"
   ]
  },
  {
   "cell_type": "code",
   "execution_count": 2,
   "id": "e04185cd-6f3d-42d2-966e-61968afbc1b4",
   "metadata": {
    "tags": []
   },
   "outputs": [],
   "source": [
    "mdk=[r'Tied',r'Herm',r'Symm',r'TiedE',r'HermE',r'SymmE',r'SymmH',r'SymmHE']"
   ]
  },
  {
   "cell_type": "code",
   "execution_count": 3,
   "id": "7272c8d0-e58d-49e4-99aa-9411eb7e5506",
   "metadata": {
    "tags": []
   },
   "outputs": [],
   "source": [
    "msk3=[r'\\thead{Model}',r\"\\thead{$\\text{HeH}^+$ in \\\\6-31g}\",\n",
    "      r\"\\thead{$\\text{HeH}^+$ in \\\\ 6-311G}\",\n",
    "      r\"\\thead{$\\text{LiH}$ in \\\\6-31g}\",\n",
    "      r\"\\thead{$\\text{C}_2 \\text{H}_4$ in \\\\sto-3g}\",\n",
    "      r\"\\thead{$\\text{LiH}$ in \\\\6-311ppgss}\",\n",
    "      r\"\\thead{$\\text{C}_2 \\text{H}_4$ in\\\\ 6-31pgs}\",\n",
    "      r\"\\thead{$\\text{C}_6 \\text{H}_6 \\text{N}_2 \\text{O}_2$\\\\ in sto-3g}\"]"
   ]
  },
  {
   "cell_type": "code",
   "execution_count": 4,
   "id": "38211de2-69f8-48ac-a3ff-083e0a29eab6",
   "metadata": {
    "tags": []
   },
   "outputs": [],
   "source": [
    "allerrors = np.load(\"allerrors.npy\")"
   ]
  },
  {
   "cell_type": "code",
   "execution_count": 5,
   "id": "aaa4307e-2fc1-46d7-a437-354e0134f258",
   "metadata": {
    "tags": []
   },
   "outputs": [],
   "source": [
    "def latex_float(f):\n",
    "    if f==-1:\n",
    "        return r\"na\"\n",
    "    float_str = \"{0:.2e}\".format(f)\n",
    "    if \"e\" in float_str:\n",
    "        base, exponent = float_str.split(\"e\")\n",
    "        return r\"${0} \\! \\times \\! 10^{{{1}}}$\".format(base, int(exponent))\n",
    "    else:\n",
    "        return float_str"
   ]
  },
  {
   "cell_type": "code",
   "execution_count": 6,
   "id": "58bdc4ea-f7eb-452e-b6ab-466f538ad47e",
   "metadata": {
    "tags": []
   },
   "outputs": [],
   "source": [
    "lfv = np.vectorize(latex_float)"
   ]
  },
  {
   "cell_type": "code",
   "execution_count": 7,
   "id": "8892c81e-9323-4f85-9ecc-cf5cff29c0d0",
   "metadata": {
    "tags": []
   },
   "outputs": [],
   "source": [
    "def boldfacer(s):\n",
    "    x = s.split('$')\n",
    "    return r\"$\\mathbf{\" + x[1] + r\"}$\""
   ]
  },
  {
   "cell_type": "code",
   "execution_count": 8,
   "id": "9539dbbe-399e-4b59-a782-6982ed448182",
   "metadata": {
    "tags": []
   },
   "outputs": [],
   "source": [
    "def latex_boldfloat(f):\n",
    "    if f==-1:\n",
    "        return r\"na\"\n",
    "    float_str = \"{0:.2e}\".format(f)\n",
    "    if \"e\" in float_str:\n",
    "        base, exponent = float_str.split(\"e\")\n",
    "        return r\"$\\mathbf{ \" + str(base) + r\" \\! \\times \\! 10^{\" + str(int(exponent)) + r\"} }$\"\n",
    "    else:\n",
    "        return float_str"
   ]
  },
  {
   "cell_type": "code",
   "execution_count": 10,
   "id": "3318d730-23dc-46d8-858a-3a454a552db6",
   "metadata": {
    "tags": []
   },
   "outputs": [],
   "source": [
    "# FIELD-FREE PROP ERRORS\n",
    "\n",
    "rawmat = allerrors[:,:,0,0].T\n",
    "allerr = np.array(lfv(rawmat), dtype='<U80')\n",
    "for j in range(7):\n",
    "    if j>=4:\n",
    "        thisvec = rawmat[:6,j]\n",
    "    else:\n",
    "        thisvec = rawmat[:,j]\n",
    "    mi = np.where(thisvec==np.min(thisvec))[0]\n",
    "    for i in mi:\n",
    "        allerr[i,j] = boldfacer(allerr[i,j])\n",
    "\n",
    "allerr2 = np.hstack([ np.expand_dims(np.array(mdk),1), allerr ])\n",
    "\n",
    "pytextable.write(\n",
    "    allerr2,\n",
    "    \"properrFF.tex\",\n",
    "    header=msk3,\n",
    "    caption=r\"$ \\| \\cdot \\|_{\\infty} $ Propagation Errors (Field-Free)\",\n",
    "    label=\"tab:properrFF\",\n",
    "    alignment=\"lccccccc\"\n",
    ")"
   ]
  },
  {
   "cell_type": "code",
   "execution_count": 11,
   "id": "009f5b1c-d308-439e-b843-ce3d8259aa2c",
   "metadata": {},
   "outputs": [],
   "source": [
    "# FIELD-ON PROP ERRORS\n",
    "\n",
    "rawmat = allerrors[:,:,1,0].T\n",
    "allerr = np.array(lfv(rawmat), dtype='<U80')\n",
    "for j in range(7):\n",
    "    if j>=4:\n",
    "        thisvec = rawmat[:6,j]\n",
    "    else:\n",
    "        thisvec = rawmat[:,j]\n",
    "    mi = np.where(thisvec==np.min(thisvec))[0]\n",
    "    for i in mi:\n",
    "        allerr[i,j] = boldfacer(allerr[i,j])\n",
    "\n",
    "allerr2 = np.hstack([ np.expand_dims(np.array(mdk),1), allerr ])\n",
    "\n",
    "pytextable.write(\n",
    "    allerr2,\n",
    "    \"properrFO.tex\",\n",
    "    header=msk3,\n",
    "    caption=r\"$ \\| \\cdot \\|_{\\infty} $ Propagation Errors (Field-On)\",\n",
    "    label=\"tab:properrFO\",\n",
    "    alignment=\"lccccccc\"\n",
    ")"
   ]
  },
  {
   "cell_type": "code",
   "execution_count": 12,
   "id": "4e752c35-9c3d-44e1-a406-5a8af9b34573",
   "metadata": {},
   "outputs": [],
   "source": [
    "# FIELD-OFF HAM  ERRORS\n",
    "\n",
    "rawmat = allerrors[:,:,0,1].T\n",
    "allerr = np.array(lfv(rawmat), dtype='<U80')\n",
    "for j in range(7):\n",
    "    if j>=4:\n",
    "        thisvec = rawmat[:6,j]\n",
    "    else:\n",
    "        thisvec = rawmat[:,j]\n",
    "    mi = np.where(thisvec==np.min(thisvec))[0]\n",
    "    for i in mi:\n",
    "        allerr[i,j] = boldfacer(allerr[i,j])\n",
    "\n",
    "allerr2 = np.hstack([ np.expand_dims(np.array(mdk),1), allerr ])\n",
    "\n",
    "pytextable.write(\n",
    "    allerr2,\n",
    "    \"LinftyHamError.tex\",\n",
    "    header=msk3,\n",
    "    caption=r\"$\\| \\cdot \\|_\\infty$ Hamiltonian error\",\n",
    "    label=\"tab:LinftyHamError\",\n",
    "    alignment=\"lccccccc\"\n",
    ")"
   ]
  },
  {
   "cell_type": "code",
   "execution_count": 13,
   "id": "d710453a-a099-4efc-accd-096f60bf8ac3",
   "metadata": {},
   "outputs": [],
   "source": [
    "# FIELD-OFF HAM  ERRORS\n",
    "\n",
    "rawmat = allerrors[:,:,0,2].T\n",
    "allerr = np.array(lfv(rawmat), dtype='<U80')\n",
    "for j in range(7):\n",
    "    if j>=4:\n",
    "        thisvec = rawmat[:6,j]\n",
    "    else:\n",
    "        thisvec = rawmat[:,j]\n",
    "    mi = np.where(thisvec==np.min(thisvec))[0]\n",
    "    for i in mi:\n",
    "        allerr[i,j] = boldfacer(allerr[i,j])\n",
    "\n",
    "allerr2 = np.hstack([ np.expand_dims(np.array(mdk),1), allerr ])\n",
    "\n",
    "pytextable.write(\n",
    "    allerr2,\n",
    "    \"MAEHamError.tex\",\n",
    "    header=msk3,\n",
    "    caption=r\"Mean absolute Hamiltonian error\",\n",
    "    label=\"tab:MAEHamError\",\n",
    "    alignment=\"lccccccc\"\n",
    ")"
   ]
  },
  {
   "cell_type": "code",
   "execution_count": 14,
   "id": "c44c3fdd-90e3-473a-8109-adfcbcaeeaf0",
   "metadata": {},
   "outputs": [],
   "source": [
    "# FIELD-OFF COMM ERRORS\n",
    "\n",
    "rawmat = allerrors[:,:,0,3].T\n",
    "allerr = np.array(lfv(rawmat), dtype='<U80')\n",
    "for j in range(7):\n",
    "    if j>=4:\n",
    "        thisvec = rawmat[:6,j]\n",
    "    else:\n",
    "        thisvec = rawmat[:,j]\n",
    "    mi = np.where(thisvec==np.min(thisvec))[0]\n",
    "    for i in mi:\n",
    "        allerr[i,j] = boldfacer(allerr[i,j])\n",
    "\n",
    "allerr2 = np.hstack([ np.expand_dims(np.array(mdk),1), allerr ])\n",
    "\n",
    "pytextable.write(\n",
    "    allerr2,\n",
    "    \"LinftyCommErrorFF.tex\",\n",
    "    header=msk3,\n",
    "    caption=r\"$\\| \\cdot \\|_\\infty$ commutator error (field-free)\",\n",
    "    label=\"tab:LinftyCommErrorFF\",\n",
    "    alignment=\"lccccccc\"\n",
    ")\n",
    "\n",
    "# FIELD-OFF COMM ERRORS\n",
    "\n",
    "rawmat = allerrors[:,:,0,4].T\n",
    "allerr = np.array(lfv(rawmat), dtype='<U80')\n",
    "for j in range(7):\n",
    "    if j>=4:\n",
    "        thisvec = rawmat[:6,j]\n",
    "    else:\n",
    "        thisvec = rawmat[:,j]\n",
    "    mi = np.where(thisvec==np.min(thisvec))[0]\n",
    "    for i in mi:\n",
    "        allerr[i,j] = boldfacer(allerr[i,j])\n",
    "\n",
    "allerr2 = np.hstack([ np.expand_dims(np.array(mdk),1), allerr ])\n",
    "\n",
    "pytextable.write(\n",
    "    allerr2,\n",
    "    \"FroSqCommErrorFF.tex\",\n",
    "    header=msk3,\n",
    "    caption=r\"$\\| \\cdot \\|_F^2$ commutator error (field-free)\",\n",
    "    label=\"tab:FroSqCommErrorFF\",\n",
    "    alignment=\"lccccccc\"\n",
    ")"
   ]
  },
  {
   "cell_type": "code",
   "execution_count": 15,
   "id": "a7c6e390-4751-4595-89c5-d583b35f1597",
   "metadata": {},
   "outputs": [],
   "source": [
    "# FIELD-ON COMM ERRORS\n",
    "\n",
    "rawmat = allerrors[:,:,1,3].T\n",
    "allerr = np.array(lfv(rawmat), dtype='<U80')\n",
    "for j in range(7):\n",
    "    if j>=4:\n",
    "        thisvec = rawmat[:6,j]\n",
    "    else:\n",
    "        thisvec = rawmat[:,j]\n",
    "    mi = np.where(thisvec==np.min(thisvec))[0]\n",
    "    for i in mi:\n",
    "        allerr[i,j] = boldfacer(allerr[i,j])\n",
    "\n",
    "allerr2 = np.hstack([ np.expand_dims(np.array(mdk),1), allerr ])\n",
    "\n",
    "pytextable.write(\n",
    "    allerr2,\n",
    "    \"LinftyCommErrorFO.tex\",\n",
    "    header=msk3,\n",
    "    caption=r\"$\\| \\cdot \\|_\\infty$ commutator error (field-on)\",\n",
    "    label=\"tab:LinftyCommErrorFO\",\n",
    "    alignment=\"lccccccc\"\n",
    ")\n",
    "\n",
    "# FIELD-ON COMM ERRORS\n",
    "\n",
    "rawmat = allerrors[:,:,1,4].T\n",
    "allerr = np.array(lfv(rawmat), dtype='<U80')\n",
    "for j in range(7):\n",
    "    if j>=4:\n",
    "        thisvec = rawmat[:6,j]\n",
    "    else:\n",
    "        thisvec = rawmat[:,j]\n",
    "    mi = np.where(thisvec==np.min(thisvec))[0]\n",
    "    for i in mi:\n",
    "        allerr[i,j] = boldfacer(allerr[i,j])\n",
    "\n",
    "allerr2 = np.hstack([ np.expand_dims(np.array(mdk),1), allerr ])\n",
    "\n",
    "pytextable.write(\n",
    "    allerr2,\n",
    "    \"FroSqCommErrorFO.tex\",\n",
    "    header=msk3,\n",
    "    caption=r\"$\\| \\cdot \\|_F^2$ commutator error (field-on)\",\n",
    "    label=\"tab:FroSqCommErrorFO\",\n",
    "    alignment=\"lccccccc\"\n",
    ")"
   ]
  },
  {
   "cell_type": "code",
   "execution_count": 17,
   "id": "0bb97459-a781-4dd0-a3ad-ab43e8ea9f82",
   "metadata": {},
   "outputs": [],
   "source": [
    "\n",
    "# FIELD-OFF TRAINING LOSS\n",
    "\n",
    "rawmat = allerrors[:,:,0,5].T\n",
    "allerr = np.array(lfv(rawmat), dtype='<U80')\n",
    "for j in range(7):\n",
    "    if j>=4:\n",
    "        thisvec = rawmat[:6,j]\n",
    "    else:\n",
    "        thisvec = rawmat[:,j]\n",
    "    mi = np.where(thisvec==np.min(thisvec))[0]\n",
    "    for i in mi:\n",
    "        allerr[i,j] = boldfacer(allerr[i,j])\n",
    "\n",
    "allerr2 = np.hstack([ np.expand_dims(np.array(mdk),1), allerr ])\n",
    "\n",
    "pytextable.write(\n",
    "    allerr2,\n",
    "    \"TrainingLosses.tex\",\n",
    "    header=msk3,\n",
    "    caption=r\"Training Losses\",\n",
    "    label=\"tab:TrainingLosses\",\n",
    "    alignment=\"lccccccc\"\n",
    ")"
   ]
  },
  {
   "cell_type": "code",
   "execution_count": null,
   "id": "f69549d8-6b9a-49b5-be51-bd431575542d",
   "metadata": {},
   "outputs": [],
   "source": []
  },
  {
   "cell_type": "code",
   "execution_count": null,
   "id": "0eca247a-4b0a-437d-a867-0391559787c0",
   "metadata": {},
   "outputs": [],
   "source": []
  }
 ],
 "metadata": {
  "kernelspec": {
   "display_name": "Python 3 (ipykernel)",
   "language": "python",
   "name": "python3"
  },
  "language_info": {
   "codemirror_mode": {
    "name": "ipython",
    "version": 3
   },
   "file_extension": ".py",
   "mimetype": "text/x-python",
   "name": "python",
   "nbconvert_exporter": "python",
   "pygments_lexer": "ipython3",
   "version": "3.9.18"
  }
 },
 "nbformat": 4,
 "nbformat_minor": 5
}
