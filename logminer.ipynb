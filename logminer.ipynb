{
 "cells": [
  {
   "cell_type": "code",
   "execution_count": 1,
   "id": "5169d65a-b786-43b1-b22b-ea3f805a8771",
   "metadata": {
    "tags": []
   },
   "outputs": [],
   "source": [
    "import numpy as np\n",
    "import matplotlib.pyplot as plt\n",
    "import matplotlib\n",
    "import csv"
   ]
  },
  {
   "cell_type": "code",
   "execution_count": 45,
   "id": "23b80691-2417-48d5-af25-96e3fbe33f23",
   "metadata": {
    "tags": []
   },
   "outputs": [],
   "source": [
    "# header = ['itn','x(1)','norm r','norm Ar','compatible','LS','norm A','cond A']\n",
    "\n",
    "# mol = 'c6h6n2o2'\n",
    "# basis = 'sto-3g'\n",
    "\n",
    "# mol = 'lih'\n",
    "# basis = '6-311ppgss'\n",
    "\n",
    "mol = 'c2h4'\n",
    "basis = '6-31pgs'\n",
    "\n",
    "ltflag = '_lowtol_'\n",
    "\n",
    "newmeth = {'PG':'Tied',\n",
    "           'PGR':'TiedE',\n",
    "           'HB':'Herm',\n",
    "           'HBR':'HermE',\n",
    "           'MO':'Symm',\n",
    "           'MOR':'SymmE'}"
   ]
  },
  {
   "cell_type": "code",
   "execution_count": 46,
   "id": "f8b004db-7371-4c6a-9957-7391f5e7b44d",
   "metadata": {
    "tags": []
   },
   "outputs": [
    {
     "name": "stdout",
     "output_type": "stream",
     "text": [
      "['./logsPG/c2h4_lowtol_6-31pgs_fit2.out', './logsPG/c2h4R_lowtol_6-31pgs_fit2.out', './logsHB/c2h4_lowtol_6-31pgs_fit2.out', './logsHB/c2h4R_lowtol_6-31pgs_fit2.out', './logsMO/c2h4_lowtol_6-31pgs_fit2.out', './logsMO/c2h4R_lowtol_6-31pgs_fit2.out']\n",
      "['PG', 'PG', 'HB', 'HB', 'MO', 'MO']\n"
     ]
    }
   ],
   "source": [
    "methods = ['PG','HB','MO']\n",
    "rf = ['','R']\n",
    "logfiles = []\n",
    "fullmethods = []\n",
    "fulllabels = []\n",
    "for meth in methods:\n",
    "    for rflag in rf:\n",
    "        logfiles.append('./logs'+meth+'/'+mol+rflag+ltflag+basis+'_fit2.out')\n",
    "        fullmethods.append(meth)\n",
    "        fulllabels.append(newmeth[meth+rflag])\n",
    "    \n",
    "print(logfiles)\n",
    "print(fullmethods)"
   ]
  },
  {
   "cell_type": "code",
   "execution_count": 47,
   "id": "201a6953-de1a-4117-903e-d82c6036ba95",
   "metadata": {
    "tags": []
   },
   "outputs": [],
   "source": [
    "def grabnorm(fname, meth):\n",
    "    i = 0\n",
    "    itr = []\n",
    "    normr = []\n",
    "    with open(fname, \"r\") as csv_file:\n",
    "        print(fname)\n",
    "        csv_reader = csv.reader(csv_file, delimiter=' ')\n",
    "        done = False\n",
    "        while not done:\n",
    "            skip = next(csv_reader)\n",
    "            if len(skip) >= 4:\n",
    "                if skip[3] == 'itn':\n",
    "                    break\n",
    "        for lines in csv_reader:\n",
    "            i += 1\n",
    "            if i % 22 == 0:\n",
    "                lines = next(csv_reader)\n",
    "                lines = next(csv_reader)\n",
    "                i += 2\n",
    "            if len(lines)==2:\n",
    "                lines = next(csv_reader)\n",
    "                if lines[0]==\"LSMR\" and lines[1]==\"finished\":\n",
    "                    break\n",
    "            goodcols = []\n",
    "            for j in range(len(lines)):\n",
    "                if lines[j] != '':\n",
    "                    goodcols.append(j)\n",
    "            itr.append( int(lines[goodcols[0]]) )\n",
    "            normr.append( float(lines[goodcols[2]])**2 )\n",
    "    return itr, normr"
   ]
  },
  {
   "cell_type": "code",
   "execution_count": 48,
   "id": "1686fb1e-a22d-403f-9294-7eaad67b59ff",
   "metadata": {
    "tags": []
   },
   "outputs": [
    {
     "name": "stdout",
     "output_type": "stream",
     "text": [
      "./logsPG/c2h4_lowtol_6-31pgs_fit2.out\n",
      "./logsPG/c2h4R_lowtol_6-31pgs_fit2.out\n",
      "./logsHB/c2h4_lowtol_6-31pgs_fit2.out\n",
      "./logsHB/c2h4R_lowtol_6-31pgs_fit2.out\n",
      "./logsMO/c2h4_lowtol_6-31pgs_fit2.out\n",
      "./logsMO/c2h4R_lowtol_6-31pgs_fit2.out\n"
     ]
    }
   ],
   "source": [
    "itrs = []\n",
    "normrs = []\n",
    "for j in range(len(fullmethods)):\n",
    "    itr, normr = grabnorm(logfiles[j],fullmethods[j])\n",
    "    itrs.append(itr)\n",
    "    normrs.append(normr)"
   ]
  },
  {
   "cell_type": "code",
   "execution_count": 49,
   "id": "779772f5-e351-4cf0-ae36-74fd2adc16e6",
   "metadata": {
    "tags": []
   },
   "outputs": [],
   "source": [
    "matplotlib.rcParams.update({'font.size': 24})\n",
    "plt.figure(figsize=(8,7))\n",
    "\n",
    "plt.ticklabel_format(axis='both', style='sci', scilimits=(3,3))\n",
    "\n",
    "for j in range(len(itrs)):\n",
    "    if j % 2 == 1:\n",
    "        plt.loglog( itrs[j], normrs[j], label=fulllabels[j] )\n",
    "\n",
    "for j in range(len(itrs)):\n",
    "    if j % 2 == 0:\n",
    "        plt.loglog( itrs[j], normrs[j], label=fulllabels[j] )\n",
    "\n",
    "plt.xlabel('iterations')\n",
    "plt.ylabel('training loss')\n",
    "plt.grid(color='lightgray',ls='-')\n",
    "\n",
    "plt.savefig('./figs/LOG_'+mol+'_'+basis+'.pdf',bbox_inches='tight')\n",
    "\n",
    "plt.close()"
   ]
  },
  {
   "cell_type": "code",
   "execution_count": 50,
   "id": "23137f8e-158b-43df-95dd-839b82799638",
   "metadata": {
    "tags": []
   },
   "outputs": [
    {
     "name": "stdout",
     "output_type": "stream",
     "text": [
      "['#1f77b4', '#ff7f0e', '#2ca02c', '#d62728', '#9467bd', '#8c564b', '#e377c2', '#7f7f7f', '#bcbd22', '#17becf']\n"
     ]
    }
   ],
   "source": [
    "colors = plt.rcParams['axes.prop_cycle'].by_key()['color']\n",
    "print(colors)"
   ]
  },
  {
   "cell_type": "code",
   "execution_count": 51,
   "id": "2a618d96-e6d4-428c-b50c-6dca0ac378ac",
   "metadata": {
    "tags": []
   },
   "outputs": [],
   "source": [
    "from matplotlib.lines import Line2D"
   ]
  },
  {
   "cell_type": "code",
   "execution_count": 55,
   "id": "178583ae-a5ff-4214-8510-6aa233a59101",
   "metadata": {
    "tags": []
   },
   "outputs": [],
   "source": [
    "from matplotlib.transforms import Bbox"
   ]
  },
  {
   "cell_type": "code",
   "execution_count": 75,
   "id": "1a706965-cd36-4429-9b5e-b0ee022850a2",
   "metadata": {},
   "outputs": [
    {
     "name": "stdout",
     "output_type": "stream",
     "text": [
      "Bbox(x0=456.4583333333334, y0=291.3333333333335, x1=703.3333333333335, y1=599.3333333333335)\n"
     ]
    }
   ],
   "source": [
    "matplotlib.rcParams.update({'font.size': 24})\n",
    "plt.figure(figsize=(8,7))\n",
    "\n",
    "handles, labels = plt.gca().get_legend_handles_labels()\n",
    "\n",
    "line0 = Line2D([0], [0], label=fulllabels[1], color=colors[0])\n",
    "line1 = Line2D([0], [0], label=fulllabels[3], color=colors[1])\n",
    "line2 = Line2D([0], [0], label=fulllabels[5], color=colors[2])\n",
    "line3 = Line2D([0], [0], label=fulllabels[0], color=colors[3])\n",
    "line4 = Line2D([0], [0], label=fulllabels[2], color=colors[4])\n",
    "line5 = Line2D([0], [0], label=fulllabels[4], color=colors[5])\n",
    "\n",
    "handles.extend([line3,line4,line5,line0,line1,line2])\n",
    "\n",
    "plt.draw()\n",
    "leg = plt.legend(handles=handles)\n",
    "print(leg.get_window_extent())\n",
    "mybbox = Bbox(np.array([[456-15,291-15],[704+15,600+15]])/100)\n",
    "\n",
    "plt.savefig('./figs/LOGlegend.pdf',bbox_inches=mybbox)\n",
    "plt.close()"
   ]
  },
  {
   "cell_type": "code",
   "execution_count": null,
   "id": "e1482e81-d548-439c-97a9-f21122f6abd7",
   "metadata": {},
   "outputs": [],
   "source": []
  }
 ],
 "metadata": {
  "kernelspec": {
   "display_name": "NERSC Python",
   "language": "python",
   "name": "python3"
  },
  "language_info": {
   "codemirror_mode": {
    "name": "ipython",
    "version": 3
   },
   "file_extension": ".py",
   "mimetype": "text/x-python",
   "name": "python",
   "nbconvert_exporter": "python",
   "pygments_lexer": "ipython3",
   "version": "3.11.7"
  }
 },
 "nbformat": 4,
 "nbformat_minor": 5
}
